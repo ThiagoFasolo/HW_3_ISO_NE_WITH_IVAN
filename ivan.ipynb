{
 "cells": [
  {
   "cell_type": "code",
   "execution_count": 2,
   "id": "initial_id",
   "metadata": {
    "collapsed": true,
    "ExecuteTime": {
     "end_time": "2024-10-14T03:03:14.833348400Z",
     "start_time": "2024-10-14T03:03:14.824309500Z"
    }
   },
   "outputs": [],
   "source": [
    "import ISO_API_Request as isoapi"
   ]
  },
  {
   "cell_type": "code",
   "outputs": [
    {
     "data": {
      "text/plain": "                     BeginDate  GenMw FuelCategoryRollup  FuelCategory  \\\n0    2024-10-10 00:06:26-04:00      2               Coal          Coal   \n1    2024-10-10 00:06:26-04:00    252              Hydro         Hydro   \n2    2024-10-10 00:06:26-04:00   7727        Natural Gas   Natural Gas   \n3    2024-10-10 00:06:26-04:00   1229            Nuclear       Nuclear   \n4    2024-10-10 00:06:26-04:00      1              Other         Other   \n...                        ...    ...                ...           ...   \n2054 2024-10-10 23:54:43-04:00      0              Other         Other   \n2055 2024-10-10 23:54:43-04:00     28         Renewables  Landfill Gas   \n2056 2024-10-10 23:54:43-04:00    314         Renewables        Refuse   \n2057 2024-10-10 23:54:43-04:00   1011         Renewables          Wind   \n2058 2024-10-10 23:54:43-04:00     53         Renewables          Wood   \n\n     MarginalFlag  \n0               N  \n1               N  \n2               Y  \n3               N  \n4               N  \n...           ...  \n2054            N  \n2055            N  \n2056            N  \n2057            N  \n2058            N  \n\n[2059 rows x 5 columns]",
      "text/html": "<div>\n<style scoped>\n    .dataframe tbody tr th:only-of-type {\n        vertical-align: middle;\n    }\n\n    .dataframe tbody tr th {\n        vertical-align: top;\n    }\n\n    .dataframe thead th {\n        text-align: right;\n    }\n</style>\n<table border=\"1\" class=\"dataframe\">\n  <thead>\n    <tr style=\"text-align: right;\">\n      <th></th>\n      <th>BeginDate</th>\n      <th>GenMw</th>\n      <th>FuelCategoryRollup</th>\n      <th>FuelCategory</th>\n      <th>MarginalFlag</th>\n    </tr>\n  </thead>\n  <tbody>\n    <tr>\n      <th>0</th>\n      <td>2024-10-10 00:06:26-04:00</td>\n      <td>2</td>\n      <td>Coal</td>\n      <td>Coal</td>\n      <td>N</td>\n    </tr>\n    <tr>\n      <th>1</th>\n      <td>2024-10-10 00:06:26-04:00</td>\n      <td>252</td>\n      <td>Hydro</td>\n      <td>Hydro</td>\n      <td>N</td>\n    </tr>\n    <tr>\n      <th>2</th>\n      <td>2024-10-10 00:06:26-04:00</td>\n      <td>7727</td>\n      <td>Natural Gas</td>\n      <td>Natural Gas</td>\n      <td>Y</td>\n    </tr>\n    <tr>\n      <th>3</th>\n      <td>2024-10-10 00:06:26-04:00</td>\n      <td>1229</td>\n      <td>Nuclear</td>\n      <td>Nuclear</td>\n      <td>N</td>\n    </tr>\n    <tr>\n      <th>4</th>\n      <td>2024-10-10 00:06:26-04:00</td>\n      <td>1</td>\n      <td>Other</td>\n      <td>Other</td>\n      <td>N</td>\n    </tr>\n    <tr>\n      <th>...</th>\n      <td>...</td>\n      <td>...</td>\n      <td>...</td>\n      <td>...</td>\n      <td>...</td>\n    </tr>\n    <tr>\n      <th>2054</th>\n      <td>2024-10-10 23:54:43-04:00</td>\n      <td>0</td>\n      <td>Other</td>\n      <td>Other</td>\n      <td>N</td>\n    </tr>\n    <tr>\n      <th>2055</th>\n      <td>2024-10-10 23:54:43-04:00</td>\n      <td>28</td>\n      <td>Renewables</td>\n      <td>Landfill Gas</td>\n      <td>N</td>\n    </tr>\n    <tr>\n      <th>2056</th>\n      <td>2024-10-10 23:54:43-04:00</td>\n      <td>314</td>\n      <td>Renewables</td>\n      <td>Refuse</td>\n      <td>N</td>\n    </tr>\n    <tr>\n      <th>2057</th>\n      <td>2024-10-10 23:54:43-04:00</td>\n      <td>1011</td>\n      <td>Renewables</td>\n      <td>Wind</td>\n      <td>N</td>\n    </tr>\n    <tr>\n      <th>2058</th>\n      <td>2024-10-10 23:54:43-04:00</td>\n      <td>53</td>\n      <td>Renewables</td>\n      <td>Wood</td>\n      <td>N</td>\n    </tr>\n  </tbody>\n</table>\n<p>2059 rows × 5 columns</p>\n</div>"
     },
     "execution_count": 3,
     "metadata": {},
     "output_type": "execute_result"
    }
   ],
   "source": [
    "isoapi.request_ISO_genfuelmix_day(20241010)"
   ],
   "metadata": {
    "collapsed": false,
    "ExecuteTime": {
     "end_time": "2024-10-14T03:03:26.140132200Z",
     "start_time": "2024-10-14T03:03:25.847909500Z"
    }
   },
   "id": "6a8be8ee1acba245",
   "execution_count": 3
  },
  {
   "cell_type": "code",
   "outputs": [],
   "source": [],
   "metadata": {
    "collapsed": false
   },
   "id": "8eeaf9ea5b6f6f70"
  }
 ],
 "metadata": {
  "kernelspec": {
   "display_name": "Python 3",
   "language": "python",
   "name": "python3"
  },
  "language_info": {
   "codemirror_mode": {
    "name": "ipython",
    "version": 2
   },
   "file_extension": ".py",
   "mimetype": "text/x-python",
   "name": "python",
   "nbconvert_exporter": "python",
   "pygments_lexer": "ipython2",
   "version": "2.7.6"
  }
 },
 "nbformat": 4,
 "nbformat_minor": 5
}
