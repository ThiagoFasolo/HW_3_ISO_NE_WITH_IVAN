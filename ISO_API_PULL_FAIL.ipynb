{
 "cells": [
  {
   "cell_type": "code",
   "outputs": [],
   "source": [
    "import requests\n",
    "from requests.auth import HTTPBasicAuth\n",
    "import json\n",
    "import xml.etree.ElementTree as ET"
   ],
   "metadata": {
    "collapsed": false,
    "ExecuteTime": {
     "end_time": "2024-10-13T00:50:47.711160200Z",
     "start_time": "2024-10-13T00:50:47.086809600Z"
    }
   },
   "id": "8092a4b3af52cfb3",
   "execution_count": 1
  },
  {
   "cell_type": "code",
   "outputs": [],
   "source": [
    "username = 'sapozhnikov.i@northeastern.edu'\n",
    "password = 'Shark3Gum'\n",
    "\n",
    "base_url = 'https://webservices.iso-ne.com/api/v1.1'"
   ],
   "metadata": {
    "collapsed": false,
    "ExecuteTime": {
     "end_time": "2024-10-13T00:50:47.718665100Z",
     "start_time": "2024-10-13T00:50:47.708650500Z"
    }
   },
   "id": "84172769cc0d0e5",
   "execution_count": 2
  },
  {
   "cell_type": "code",
   "execution_count": null,
   "id": "initial_id",
   "metadata": {
    "collapsed": true
   },
   "outputs": [],
   "source": [
    "date = '20241010'\n",
    "application = f'/genfuelmix/day/{date}'\n",
    "endpoint = f'/{application}.json'\n",
    "\n",
    "# Full URL\n",
    "url = base_url + endpoint\n",
    "print(url)"
   ]
  },
  {
   "cell_type": "code",
   "source": [
    "# Make the request\n",
    "response = requests.get(url, auth=HTTPBasicAuth(username, password))\n",
    "\n",
    "# Check if the request was successful\n",
    "if response.status_code == 200:\n",
    "    if endpoint.endswith('.json'):\n",
    "        # Handle JSON response\n",
    "        data = response.json()\n",
    "        print(json.dumps(data, indent=2))\n",
    "    elif endpoint.endswith('.xml'):\n",
    "        # Handle XML response\n",
    "        root = ET.fromstring(response.content)\n",
    "        print(ET.tostring(root, encoding='utf8').decode('utf8'))\n",
    "else:\n",
    "    print('Failed to retrieve data:', response.status_code)"
   ],
   "metadata": {
    "collapsed": false,
    "ExecuteTime": {
     "end_time": "2024-10-13T17:07:51.048961Z",
     "start_time": "2024-10-13T17:07:50.914539Z"
    }
   },
   "id": "84a364ac4725ef00",
   "outputs": [
    {
     "ename": "NameError",
     "evalue": "name 'requests' is not defined",
     "output_type": "error",
     "traceback": [
      "\u001B[0;31m---------------------------------------------------------------------------\u001B[0m",
      "\u001B[0;31mNameError\u001B[0m                                 Traceback (most recent call last)",
      "Cell \u001B[0;32mIn[1], line 2\u001B[0m\n\u001B[1;32m      1\u001B[0m \u001B[38;5;66;03m# Make the request\u001B[39;00m\n\u001B[0;32m----> 2\u001B[0m response \u001B[38;5;241m=\u001B[39m \u001B[43mrequests\u001B[49m\u001B[38;5;241m.\u001B[39mget(url, auth\u001B[38;5;241m=\u001B[39mHTTPBasicAuth(username, password))\n\u001B[1;32m      4\u001B[0m \u001B[38;5;66;03m# Check if the request was successful\u001B[39;00m\n\u001B[1;32m      5\u001B[0m \u001B[38;5;28;01mif\u001B[39;00m response\u001B[38;5;241m.\u001B[39mstatus_code \u001B[38;5;241m==\u001B[39m \u001B[38;5;241m200\u001B[39m:\n",
      "\u001B[0;31mNameError\u001B[0m: name 'requests' is not defined"
     ]
    }
   ],
   "execution_count": 1
  }
 ],
 "metadata": {
  "kernelspec": {
   "display_name": "Python 3",
   "language": "python",
   "name": "python3"
  },
  "language_info": {
   "codemirror_mode": {
    "name": "ipython",
    "version": 2
   },
   "file_extension": ".py",
   "mimetype": "text/x-python",
   "name": "python",
   "nbconvert_exporter": "python",
   "pygments_lexer": "ipython2",
   "version": "2.7.6"
  }
 },
 "nbformat": 4,
 "nbformat_minor": 5
}
