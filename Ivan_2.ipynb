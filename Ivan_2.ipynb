{
 "cells": [
  {
   "cell_type": "code",
   "execution_count": 4,
   "id": "initial_id",
   "metadata": {
    "collapsed": true,
    "ExecuteTime": {
     "end_time": "2024-10-13T21:26:39.203796900Z",
     "start_time": "2024-10-13T21:26:39.014801Z"
    }
   },
   "outputs": [],
   "source": [
    "import pandas as pd\n",
    "import API_Request as isoapi\n",
    "from datetime import datetime"
   ]
  },
  {
   "cell_type": "code",
   "outputs": [
    {
     "name": "stdout",
     "output_type": "stream",
     "text": [
      "                  BeginDate  GenMw FuelCategoryRollup  FuelCategory  \\\n",
      "0 2024-10-01 00:10:21-04:00    259              Hydro         Hydro   \n",
      "1 2024-10-01 00:10:21-04:00   6295        Natural Gas   Natural Gas   \n",
      "2 2024-10-01 00:10:21-04:00   3323            Nuclear       Nuclear   \n",
      "3 2024-10-01 00:10:21-04:00      0              Other         Other   \n",
      "4 2024-10-01 00:10:21-04:00     28         Renewables  Landfill Gas   \n",
      "\n",
      "  MarginalFlag  \n",
      "0            N  \n",
      "1            Y  \n",
      "2            N  \n",
      "3            N  \n",
      "4            N  \n"
     ]
    }
   ],
   "source": [
    "df = isoapi.request_ISO_genfuelmix_daterange(20241001,20241013)\n",
    "print(df.head())"
   ],
   "metadata": {
    "collapsed": false,
    "ExecuteTime": {
     "end_time": "2024-10-13T21:12:25.252326200Z",
     "start_time": "2024-10-13T21:12:22.908058500Z"
    }
   },
   "id": "98a6cb698f623040",
   "execution_count": 3
  },
  {
   "cell_type": "code",
   "outputs": [
    {
     "ename": "NameError",
     "evalue": "name '__format' is not defined",
     "output_type": "error",
     "traceback": [
      "\u001B[1;31m---------------------------------------------------------------------------\u001B[0m",
      "\u001B[1;31mNameError\u001B[0m                                 Traceback (most recent call last)",
      "Cell \u001B[1;32mIn[6], line 1\u001B[0m\n\u001B[1;32m----> 1\u001B[0m datetime\u001B[38;5;241m.\u001B[39mnow(\u001B[43m__format\u001B[49m(\u001B[38;5;124m'\u001B[39m\u001B[38;5;124m%\u001B[39m\u001B[38;5;124mY\u001B[39m\u001B[38;5;124m%\u001B[39m\u001B[38;5;124mm\u001B[39m\u001B[38;5;132;01m%d\u001B[39;00m\u001B[38;5;124m'\u001B[39m))\n",
      "\u001B[1;31mNameError\u001B[0m: name '__format' is not defined"
     ]
    }
   ],
   "source": [
    "datetime.now(__format('%Y%m%d'))"
   ],
   "metadata": {
    "collapsed": false,
    "ExecuteTime": {
     "end_time": "2024-10-13T21:27:10.552717800Z",
     "start_time": "2024-10-13T21:27:09.737567700Z"
    }
   },
   "id": "5bd4c692c7b80147",
   "execution_count": 6
  },
  {
   "cell_type": "code",
   "outputs": [],
   "source": [
    "now = datetime.now()\n",
    "\n",
    "# Format the date and time in YYYYMMDD format\n",
    "formatted_date = now.strftime('%Y%m%d')"
   ],
   "metadata": {
    "collapsed": false
   },
   "id": "117eab1f4ccc4d52"
  },
  {
   "cell_type": "code",
   "outputs": [
    {
     "data": {
      "text/plain": "'20241013'"
     },
     "execution_count": 8,
     "metadata": {},
     "output_type": "execute_result"
    }
   ],
   "source": [
    "now = datetime.now().strftime('%Y%m%d')\n",
    "now"
   ],
   "metadata": {
    "collapsed": false,
    "ExecuteTime": {
     "end_time": "2024-10-13T21:29:20.600809500Z",
     "start_time": "2024-10-13T21:29:20.183945600Z"
    }
   },
   "id": "76d775e02e6d1dcb",
   "execution_count": 8
  },
  {
   "cell_type": "code",
   "outputs": [],
   "source": [],
   "metadata": {
    "collapsed": false
   },
   "id": "b429adf495603e8f"
  }
 ],
 "metadata": {
  "kernelspec": {
   "display_name": "Python 3",
   "language": "python",
   "name": "python3"
  },
  "language_info": {
   "codemirror_mode": {
    "name": "ipython",
    "version": 2
   },
   "file_extension": ".py",
   "mimetype": "text/x-python",
   "name": "python",
   "nbconvert_exporter": "python",
   "pygments_lexer": "ipython2",
   "version": "2.7.6"
  }
 },
 "nbformat": 4,
 "nbformat_minor": 5
}
