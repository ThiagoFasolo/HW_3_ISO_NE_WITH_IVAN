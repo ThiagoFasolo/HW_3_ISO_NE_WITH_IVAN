{
 "cells": [
  {
   "cell_type": "code",
   "outputs": [],
   "source": [
    "import pandas as pd\n",
    "import API_Request as isoapi"
   ],
   "metadata": {
    "collapsed": false,
    "ExecuteTime": {
     "end_time": "2024-10-13T20:56:24.505993800Z",
     "start_time": "2024-10-13T20:56:24.499349500Z"
    }
   },
   "id": "8092a4b3af52cfb3",
   "execution_count": 20
  },
  {
   "cell_type": "code",
   "outputs": [
    {
     "data": {
      "text/plain": "                           BeginDate  GenMw FuelCategoryRollup  FuelCategory  \\\n0      2024-10-01T00:10:21.000-04:00    259              Hydro         Hydro   \n1      2024-10-01T00:10:21.000-04:00   6295        Natural Gas   Natural Gas   \n2      2024-10-01T00:10:21.000-04:00   3323            Nuclear       Nuclear   \n3      2024-10-01T00:10:21.000-04:00      0              Other         Other   \n4      2024-10-01T00:10:21.000-04:00     28         Renewables  Landfill Gas   \n...                              ...    ...                ...           ...   \n26457  2024-10-13T16:53:45.000-04:00     28         Renewables  Landfill Gas   \n26458  2024-10-13T16:53:45.000-04:00    297         Renewables        Refuse   \n26459  2024-10-13T16:53:45.000-04:00     21         Renewables         Solar   \n26460  2024-10-13T16:53:45.000-04:00     24         Renewables          Wind   \n26461  2024-10-13T16:53:45.000-04:00    110         Renewables          Wood   \n\n      MarginalFlag  \n0                N  \n1                Y  \n2                N  \n3                N  \n4                N  \n...            ...  \n26457            N  \n26458            N  \n26459            N  \n26460            N  \n26461            N  \n\n[26462 rows x 5 columns]",
      "text/html": "<div>\n<style scoped>\n    .dataframe tbody tr th:only-of-type {\n        vertical-align: middle;\n    }\n\n    .dataframe tbody tr th {\n        vertical-align: top;\n    }\n\n    .dataframe thead th {\n        text-align: right;\n    }\n</style>\n<table border=\"1\" class=\"dataframe\">\n  <thead>\n    <tr style=\"text-align: right;\">\n      <th></th>\n      <th>BeginDate</th>\n      <th>GenMw</th>\n      <th>FuelCategoryRollup</th>\n      <th>FuelCategory</th>\n      <th>MarginalFlag</th>\n    </tr>\n  </thead>\n  <tbody>\n    <tr>\n      <th>0</th>\n      <td>2024-10-01T00:10:21.000-04:00</td>\n      <td>259</td>\n      <td>Hydro</td>\n      <td>Hydro</td>\n      <td>N</td>\n    </tr>\n    <tr>\n      <th>1</th>\n      <td>2024-10-01T00:10:21.000-04:00</td>\n      <td>6295</td>\n      <td>Natural Gas</td>\n      <td>Natural Gas</td>\n      <td>Y</td>\n    </tr>\n    <tr>\n      <th>2</th>\n      <td>2024-10-01T00:10:21.000-04:00</td>\n      <td>3323</td>\n      <td>Nuclear</td>\n      <td>Nuclear</td>\n      <td>N</td>\n    </tr>\n    <tr>\n      <th>3</th>\n      <td>2024-10-01T00:10:21.000-04:00</td>\n      <td>0</td>\n      <td>Other</td>\n      <td>Other</td>\n      <td>N</td>\n    </tr>\n    <tr>\n      <th>4</th>\n      <td>2024-10-01T00:10:21.000-04:00</td>\n      <td>28</td>\n      <td>Renewables</td>\n      <td>Landfill Gas</td>\n      <td>N</td>\n    </tr>\n    <tr>\n      <th>...</th>\n      <td>...</td>\n      <td>...</td>\n      <td>...</td>\n      <td>...</td>\n      <td>...</td>\n    </tr>\n    <tr>\n      <th>26457</th>\n      <td>2024-10-13T16:53:45.000-04:00</td>\n      <td>28</td>\n      <td>Renewables</td>\n      <td>Landfill Gas</td>\n      <td>N</td>\n    </tr>\n    <tr>\n      <th>26458</th>\n      <td>2024-10-13T16:53:45.000-04:00</td>\n      <td>297</td>\n      <td>Renewables</td>\n      <td>Refuse</td>\n      <td>N</td>\n    </tr>\n    <tr>\n      <th>26459</th>\n      <td>2024-10-13T16:53:45.000-04:00</td>\n      <td>21</td>\n      <td>Renewables</td>\n      <td>Solar</td>\n      <td>N</td>\n    </tr>\n    <tr>\n      <th>26460</th>\n      <td>2024-10-13T16:53:45.000-04:00</td>\n      <td>24</td>\n      <td>Renewables</td>\n      <td>Wind</td>\n      <td>N</td>\n    </tr>\n    <tr>\n      <th>26461</th>\n      <td>2024-10-13T16:53:45.000-04:00</td>\n      <td>110</td>\n      <td>Renewables</td>\n      <td>Wood</td>\n      <td>N</td>\n    </tr>\n  </tbody>\n</table>\n<p>26462 rows × 5 columns</p>\n</div>"
     },
     "execution_count": 22,
     "metadata": {},
     "output_type": "execute_result"
    }
   ],
   "source": [
    "df = isoapi.request_ISO_genfuelmix_daterange(20241001,20241013)\n",
    "df"
   ],
   "metadata": {
    "collapsed": false,
    "ExecuteTime": {
     "end_time": "2024-10-13T20:56:33.163673Z",
     "start_time": "2024-10-13T20:56:31.388357200Z"
    }
   },
   "id": "10280e005909d4af",
   "execution_count": 22
  },
  {
   "cell_type": "code",
   "outputs": [
    {
     "data": {
      "text/plain": "'2024-10-01T00:10:21.000-04:00'"
     },
     "execution_count": 30,
     "metadata": {},
     "output_type": "execute_result"
    }
   ],
   "source": [
    "time = df['BeginDate'][0]\n",
    "time"
   ],
   "metadata": {
    "collapsed": false,
    "ExecuteTime": {
     "end_time": "2024-10-13T21:01:07.078109200Z",
     "start_time": "2024-10-13T21:01:07.053201300Z"
    }
   },
   "id": "d4736404363823f6",
   "execution_count": 30
  },
  {
   "cell_type": "code",
   "outputs": [
    {
     "data": {
      "text/plain": "str"
     },
     "execution_count": 28,
     "metadata": {},
     "output_type": "execute_result"
    }
   ],
   "source": [],
   "metadata": {
    "collapsed": false,
    "ExecuteTime": {
     "end_time": "2024-10-13T21:00:56.708372500Z",
     "start_time": "2024-10-13T21:00:56.660220100Z"
    }
   },
   "id": "947b9987b5843afa",
   "execution_count": 28
  },
  {
   "cell_type": "code",
   "outputs": [],
   "source": [],
   "metadata": {
    "collapsed": false
   },
   "id": "179666334906e336"
  }
 ],
 "metadata": {
  "kernelspec": {
   "display_name": "Python 3",
   "language": "python",
   "name": "python3"
  },
  "language_info": {
   "codemirror_mode": {
    "name": "ipython",
    "version": 2
   },
   "file_extension": ".py",
   "mimetype": "text/x-python",
   "name": "python",
   "nbconvert_exporter": "python",
   "pygments_lexer": "ipython2",
   "version": "2.7.6"
  }
 },
 "nbformat": 4,
 "nbformat_minor": 5
}
